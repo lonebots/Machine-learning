{
  "nbformat": 4,
  "nbformat_minor": 0,
  "metadata": {
    "colab": {
      "name": "day3-assignment.ipynb",
      "provenance": [],
      "collapsed_sections": []
    },
    "kernelspec": {
      "name": "python3",
      "display_name": "Python 3"
    }
  },
  "cells": [
    {
      "cell_type": "markdown",
      "metadata": {
        "id": "Gbr_DACr5Juf"
      },
      "source": [
        "# **Assignment 3**"
      ]
    },
    {
      "cell_type": "markdown",
      "metadata": {
        "id": "z1QjY-bE4-Rg"
      },
      "source": [
        "#### **Q.1. Using the dataset social_network_ads.csv, try predicting both logistic and knn models without scaling and then upload the screenshot of the confusion matrix.**"
      ]
    },
    {
      "cell_type": "code",
      "metadata": {
        "id": "ALqE18mI40fH"
      },
      "source": [
        "#library imports\r\n",
        "import pandas as pd\r\n",
        "import numpy as np\r\n",
        "import matplotlib.pyplot as plt\r\n"
      ],
      "execution_count": 1,
      "outputs": []
    },
    {
      "cell_type": "code",
      "metadata": {
        "id": "wJsp0c6p5T2I"
      },
      "source": [
        "#taking the dataset\r\n",
        "data=pd.read_csv('/content/drive/MyDrive/ML/TinkerWeek.py/dataset/Social_Network_Ads.csv')\r\n",
        "x=data.iloc[:,0:2].values\r\n",
        "y=data.iloc[:,-1].values"
      ],
      "execution_count": 5,
      "outputs": []
    },
    {
      "cell_type": "code",
      "metadata": {
        "id": "AmIU8dy_oTAx"
      },
      "source": [
        "#printing the values\r\n",
        "print(x)\r\n",
        "print(y)"
      ],
      "execution_count": null,
      "outputs": []
    },
    {
      "cell_type": "code",
      "metadata": {
        "id": "xn4x-y_cpEO7"
      },
      "source": [
        "#splitting the training and test data(s)\r\n",
        "from sklearn.model_selection import train_test_split\r\n",
        "x_train,x_test,y_train,y_test=train_test_split(x,y,test_size=0.2,random_state=0)"
      ],
      "execution_count": 7,
      "outputs": []
    },
    {
      "cell_type": "code",
      "metadata": {
        "colab": {
          "base_uri": "https://localhost:8080/"
        },
        "id": "Kqi_pUyDoipp",
        "outputId": "cd218061-6a4f-4c1d-aa19-c37ee9076f69"
      },
      "source": [
        "#defining a logistrc regression model\r\n",
        "from sklearn.linear_model import LogisticRegression\r\n",
        "model1=LogisticRegression(random_state=0)\r\n",
        "model1.fit(x_train,y_train)"
      ],
      "execution_count": 9,
      "outputs": [
        {
          "output_type": "execute_result",
          "data": {
            "text/plain": [
              "LogisticRegression(C=1.0, class_weight=None, dual=False, fit_intercept=True,\n",
              "                   intercept_scaling=1, l1_ratio=None, max_iter=100,\n",
              "                   multi_class='auto', n_jobs=None, penalty='l2',\n",
              "                   random_state=0, solver='lbfgs', tol=0.0001, verbose=0,\n",
              "                   warm_start=False)"
            ]
          },
          "metadata": {
            "tags": []
          },
          "execution_count": 9
        }
      ]
    },
    {
      "cell_type": "code",
      "metadata": {
        "id": "igbSVFK7puGd"
      },
      "source": [
        "#testing the model-1 prediction\r\n",
        "y_predict1=model1.predict(x_test)"
      ],
      "execution_count": 16,
      "outputs": []
    },
    {
      "cell_type": "code",
      "metadata": {
        "colab": {
          "base_uri": "https://localhost:8080/"
        },
        "id": "YFprr0N4p5AJ",
        "outputId": "321e73a0-2fae-4ea9-c5f0-1e1f15370790"
      },
      "source": [
        "#getting the confusion matrix for logistic regression model\r\n",
        "from sklearn.metrics import confusion_matrix,accuracy_score\r\n",
        "cm1=confusion_matrix(y_test,y_predict1)\r\n",
        "print(cm1)"
      ],
      "execution_count": 20,
      "outputs": [
        {
          "output_type": "stream",
          "text": [
            "[[58  0]\n",
            " [22  0]]\n"
          ],
          "name": "stdout"
        }
      ]
    },
    {
      "cell_type": "code",
      "metadata": {
        "colab": {
          "base_uri": "https://localhost:8080/"
        },
        "id": "-APKWzQxsOsM",
        "outputId": "013cd80f-d970-4c1c-873b-2370acc12a8b"
      },
      "source": [
        "#defining model2 - knn algorithm\r\n",
        "from sklearn.neighbors import KNeighborsClassifier\r\n",
        "model2 = KNeighborsClassifier(n_neighbors = 10, metric = 'minkowski', p = 2)\r\n",
        "model2.fit(x_train, y_train)"
      ],
      "execution_count": 18,
      "outputs": [
        {
          "output_type": "execute_result",
          "data": {
            "text/plain": [
              "KNeighborsClassifier(algorithm='auto', leaf_size=30, metric='minkowski',\n",
              "                     metric_params=None, n_jobs=None, n_neighbors=10, p=2,\n",
              "                     weights='uniform')"
            ]
          },
          "metadata": {
            "tags": []
          },
          "execution_count": 18
        }
      ]
    },
    {
      "cell_type": "code",
      "metadata": {
        "id": "_Wfcriw6srUm"
      },
      "source": [
        "#testing the model-2 prediction\r\n",
        "y_predict2=model2.predict(x_test)"
      ],
      "execution_count": 22,
      "outputs": []
    },
    {
      "cell_type": "code",
      "metadata": {
        "colab": {
          "base_uri": "https://localhost:8080/"
        },
        "id": "IooHBzT6s4oO",
        "outputId": "c4f29f0d-340f-4304-9168-cb90d3083a74"
      },
      "source": [
        "#getting the confusion metric for the knn model\r\n",
        "cm2=confusion_matrix(y_test,y_predict2)\r\n",
        "print(cm2)"
      ],
      "execution_count": 23,
      "outputs": [
        {
          "output_type": "stream",
          "text": [
            "[[55  3]\n",
            " [10 12]]\n"
          ],
          "name": "stdout"
        }
      ]
    }
  ]
}