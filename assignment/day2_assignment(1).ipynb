{
  "nbformat": 4,
  "nbformat_minor": 0,
  "metadata": {
    "colab": {
      "name": "day2-assignment.ipynb",
      "provenance": [],
      "collapsed_sections": [
        "88PbU2VKIRrc",
        "Iq3S8jDhOt1Y",
        "gwWFZ3HFrEm1"
      ]
    },
    "kernelspec": {
      "name": "python3",
      "display_name": "Python 3"
    }
  },
  "cells": [
    {
      "cell_type": "markdown",
      "metadata": {
        "id": "W0QjEF6xIOD_"
      },
      "source": [
        "# Assignment 2"
      ]
    },
    {
      "cell_type": "markdown",
      "metadata": {
        "id": "88PbU2VKIRrc"
      },
      "source": [
        "####**Q1.Write a python code to determine the maximum estimated salary with age 47?** "
      ]
    },
    {
      "cell_type": "code",
      "metadata": {
        "id": "ph7X4mUGK-rb"
      },
      "source": [
        "import pandas as pd\r\n",
        "import numpy as np\r\n",
        "data=pd.read_csv('Social_Network_Ads.csv')"
      ],
      "execution_count": 25,
      "outputs": []
    },
    {
      "cell_type": "code",
      "metadata": {
        "id": "9sSpsLRMLMsE"
      },
      "source": [
        "x=data.iloc[:,0:1].values\r\n",
        "y=data.iloc[:,1].values"
      ],
      "execution_count": 26,
      "outputs": []
    },
    {
      "cell_type": "code",
      "metadata": {
        "id": "R4X8tAvrLdyI"
      },
      "source": [
        "print(x)\r\n",
        "print(y)"
      ],
      "execution_count": null,
      "outputs": []
    },
    {
      "cell_type": "code",
      "metadata": {
        "colab": {
          "base_uri": "https://localhost:8080/"
        },
        "id": "MkY9bnD3Mls0",
        "outputId": "82818fa9-8462-4f46-d9f1-a07984cfc9dd"
      },
      "source": [
        "# Fitting Polynomial Regression to the dataset\r\n",
        "from sklearn.preprocessing import PolynomialFeatures\r\n",
        "poly_reg = PolynomialFeatures(degree = 3)\r\n",
        "x_poly = poly_reg.fit_transform(x)\r\n",
        "poly_reg.fit(x_poly, y)\r\n",
        "model = LinearRegression()\r\n",
        "model.fit(x_poly, y)"
      ],
      "execution_count": 40,
      "outputs": [
        {
          "output_type": "execute_result",
          "data": {
            "text/plain": [
              "LinearRegression(copy_X=True, fit_intercept=True, n_jobs=None, normalize=False)"
            ]
          },
          "metadata": {
            "tags": []
          },
          "execution_count": 40
        }
      ]
    },
    {
      "cell_type": "code",
      "metadata": {
        "id": "7CUmzqJ-Lfe1"
      },
      "source": [
        "#train-test split\r\n",
        "from sklearn.model_selection import train_test_split\r\n",
        "x_train, x_test, y_train, y_test = train_test_split(x, y, test_size = 0.2, random_state = 0)"
      ],
      "execution_count": 30,
      "outputs": []
    },
    {
      "cell_type": "code",
      "metadata": {
        "id": "C8gCYecbMPt0"
      },
      "source": [
        "#feature scaling\r\n",
        "from sklearn.preprocessing import StandardScaler\r\n",
        "sc_x = StandardScaler()\r\n",
        "x_train = sc_x.fit_transform(x_train)\r\n",
        "x_test = sc_x.transform(x_test)"
      ],
      "execution_count": 32,
      "outputs": []
    },
    {
      "cell_type": "markdown",
      "metadata": {
        "id": "Iq3S8jDhOt1Y"
      },
      "source": [
        "####**Q2.Plot a 3 degree scatterplot of age with respected to estimated salary from social_network_ad.csv?** "
      ]
    },
    {
      "cell_type": "code",
      "metadata": {
        "id": "LR8SPyjwOMmO"
      },
      "source": [
        "#plotting libraries\r\n",
        "import matplotlib.pyplot as plt"
      ],
      "execution_count": 42,
      "outputs": []
    },
    {
      "cell_type": "code",
      "metadata": {
        "colab": {
          "base_uri": "https://localhost:8080/",
          "height": 295
        },
        "id": "CcwMA85eObGd",
        "outputId": "5db815c7-1fd8-4ed9-e290-fd137d76c591"
      },
      "source": [
        "plt.scatter(x, y, color = 'red')\r\n",
        "plt.plot(x, model.predict(poly_reg.fit_transform(x)), color = 'blue')\r\n",
        "plt.title('Social Network Ads')\r\n",
        "plt.xlabel('Age')\r\n",
        "plt.ylabel('Estimated Salary')\r\n",
        "plt.show()"
      ],
      "execution_count": 43,
      "outputs": [
        {
          "output_type": "display_data",
          "data": {
            "image/png": "[encoded data removed]",
            "text/plain": [
              "<Figure size 432x288 with 1 Axes>"
            ]
          },
          "metadata": {
            "tags": [],
            "needs_background": "light"
          }
        }
      ]
    }
  ]
}