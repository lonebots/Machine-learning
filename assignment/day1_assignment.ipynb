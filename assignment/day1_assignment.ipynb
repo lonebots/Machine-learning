{
  "nbformat": 4,
  "nbformat_minor": 0,
  "metadata": {
    "colab": {
      "name": "day1-assignment.ipynb",
      "provenance": [],
      "collapsed_sections": []
    },
    "kernelspec": {
      "name": "python3",
      "display_name": "Python 3"
    }
  },
  "cells": [
    {
      "cell_type": "markdown",
      "metadata": {
        "id": "wiGoa-QK6zfA"
      },
      "source": [
        "#  **Assignment Day 1**\r\n"
      ]
    },
    {
      "cell_type": "markdown",
      "metadata": {
        "id": "47LyFS3y7AS2"
      },
      "source": [
        "### Q1. **Find all country names from data.csv?**"
      ]
    },
    {
      "cell_type": "code",
      "metadata": {
        "id": "_SjWbIOJ4R1_"
      },
      "source": [
        "#importing libraries\r\n",
        "import numpy as np\r\n",
        "import pandas as pd\r\n"
      ],
      "execution_count": 1,
      "outputs": []
    },
    {
      "cell_type": "code",
      "metadata": {
        "id": "Ud01CD7w4gEG"
      },
      "source": [
        "#get the data using read csv\r\n",
        "dataset=pd.read_csv('Data.csv')"
      ],
      "execution_count": 3,
      "outputs": []
    },
    {
      "cell_type": "code",
      "metadata": {
        "colab": {
          "base_uri": "https://localhost:8080/"
        },
        "id": "dvB4kAG05BJf",
        "outputId": "c767e708-7c5b-4bfc-e60c-a52254db7855"
      },
      "source": [
        "#displaying the dataset\r\n",
        "print(dataset)"
      ],
      "execution_count": 7,
      "outputs": [
        {
          "output_type": "stream",
          "text": [
            "   Country   Age   Salary Purchased\n",
            "0   France  44.0  72000.0        No\n",
            "1    Spain  27.0  48000.0       Yes\n",
            "2  Germany  30.0  54000.0        No\n",
            "3    Spain  38.0  61000.0        No\n",
            "4  Germany  40.0      NaN       Yes\n",
            "5   France  35.0  58000.0       Yes\n",
            "6    Spain   NaN  52000.0        No\n",
            "7   France  48.0  79000.0       Yes\n",
            "8  Germany  50.0  83000.0        No\n",
            "9   France  37.0  67000.0       Yes\n"
          ],
          "name": "stdout"
        }
      ]
    },
    {
      "cell_type": "code",
      "metadata": {
        "colab": {
          "base_uri": "https://localhost:8080/"
        },
        "id": "Hae64qLP5NXt",
        "outputId": "ee10a530-1373-43d8-e181-b2f7da3d9857"
      },
      "source": [
        "#making a new list of unique country names and printing it\r\n",
        "list_country_name=dataset.Country.unique()\r\n",
        "print(list_country_name)"
      ],
      "execution_count": 16,
      "outputs": [
        {
          "output_type": "stream",
          "text": [
            "['France' 'Spain' 'Germany']\n"
          ],
          "name": "stdout"
        }
      ]
    },
    {
      "cell_type": "markdown",
      "metadata": {
        "id": "-Y8vZ40i7F8w"
      },
      "source": [
        "### Q2. **Find maximum age value where country is \"Germany\" from data.csv?** "
      ]
    },
    {
      "cell_type": "code",
      "metadata": {
        "colab": {
          "base_uri": "https://localhost:8080/"
        },
        "id": "iyueeBvr7haQ",
        "outputId": "1463542c-d580-4fca-d080-4b05758a197e"
      },
      "source": [
        "#taking the maximun age person from Germany\r\n",
        "max_age_german=max(dataset.loc[dataset['Country']=='Germany','Age'])\r\n",
        "print(max_age_german)"
      ],
      "execution_count": 26,
      "outputs": [
        {
          "output_type": "stream",
          "text": [
            "50.0\n"
          ],
          "name": "stdout"
        }
      ]
    }
  ]
}