{
  "nbformat": 4,
  "nbformat_minor": 0,
  "metadata": {
    "colab": {
      "name": "day5-assignment.ipynb",
      "provenance": [],
      "collapsed_sections": []
    },
    "kernelspec": {
      "name": "python3",
      "display_name": "Python 3"
    }
  },
  "cells": [
    {
      "cell_type": "markdown",
      "metadata": {
        "id": "a1_t01vy_Eiy"
      },
      "source": [
        "# **Assignment 5**"
      ]
    },
    {
      "cell_type": "markdown",
      "metadata": {
        "id": "dq2n6XXk_Fhs"
      },
      "source": [
        "#### **Q.1. Using the Position_Salaries.csv dataset, create a decision tree using different criterions(MSE, Freid man MSE, MAE, poisson deviance) and record your observations.**"
      ]
    },
    {
      "cell_type": "code",
      "metadata": {
        "id": "Sy3jIS1P-8Dw"
      },
      "source": [
        "#importing libraries\n",
        "import pandas as pd\n",
        "import numpy as np\n",
        "import matplotlib.pyplot as plt\n"
      ],
      "execution_count": 42,
      "outputs": []
    },
    {
      "cell_type": "code",
      "metadata": {
        "id": "HGDNRD2VTj-X"
      },
      "source": [
        "#importing dataset\n",
        "data=pd.read_csv('/content/drive/MyDrive/ML/TinkerWeek.py/dataset/Position_Salaries.csv')\n",
        "x=data.iloc[:,1:-1].values\n",
        "y=data.iloc[:,-1].values"
      ],
      "execution_count": 43,
      "outputs": []
    },
    {
      "cell_type": "code",
      "metadata": {
        "id": "0ng0gxa8UGWJ"
      },
      "source": [
        "#splitting the train-test data\r\n",
        "from sklearn.model_selection import train_test_split\r\n",
        "x_train,x_test,y_train,y_test=train_test_split(x,y,test_size=0.2,random_state=0)\r\n"
      ],
      "execution_count": 44,
      "outputs": []
    },
    {
      "cell_type": "code",
      "metadata": {
        "id": "QSYHrRe1EdkY"
      },
      "source": [
        "#making the Regressor\r\n",
        "#1.mse\r\n",
        "#2.friedman mse\r\n",
        "#3.mae\r\n",
        "#4.poisson deviance\r\n",
        "from sklearn.tree import DecisionTreeRegressor\r\n",
        "mse_model=DecisionTreeRegressor(criterion='mse',random_state=0)\r\n",
        "fmse_model=DecisionTreeRegressor(criterion='friedman_mse',random_state=0)\r\n",
        "mae_model=DecisionTreeRegressor(criterion='mae',random_state=0)\r\n",
        "p_model=DecisionTreeRegressor(criterion='poisson',random_state=0)\r\n"
      ],
      "execution_count": 45,
      "outputs": []
    },
    {
      "cell_type": "code",
      "metadata": {
        "colab": {
          "base_uri": "https://localhost:8080/",
          "height": 35
        },
        "id": "__j1LLLK03uB",
        "outputId": "e8df6756-fc3b-430b-c09f-3e21216d54b7"
      },
      "source": [
        "import sklearn\r\n",
        "sklearn.__version__"
      ],
      "execution_count": 52,
      "outputs": [
        {
          "output_type": "execute_result",
          "data": {
            "application/vnd.google.colaboratory.intrinsic+json": {
              "type": "string"
            },
            "text/plain": [
              "'0.22.2.post1'"
            ]
          },
          "metadata": {
            "tags": []
          },
          "execution_count": 52
        }
      ]
    },
    {
      "cell_type": "code",
      "metadata": {
        "colab": {
          "base_uri": "https://localhost:8080/",
          "height": 337
        },
        "id": "HBv0SYVxHwH7",
        "outputId": "e7fe1bed-7c60-4e4f-cfe9-1850b1025fac"
      },
      "source": [
        "#model fitting\r\n",
        "mse_model.fit(x_train,y_train)\r\n",
        "fmse_model.fit(x_train,y_train)\r\n",
        "mae_model.fit(x_train,y_train)\r\n",
        "p_model.fit(x_train,y_train)"
      ],
      "execution_count": 40,
      "outputs": [
        {
          "output_type": "error",
          "ename": "KeyError",
          "evalue": "ignored",
          "traceback": [
            "\u001b[0;31m---------------------------------------------------------------------------\u001b[0m",
            "\u001b[0;31mKeyError\u001b[0m                                  Traceback (most recent call last)",
            "\u001b[0;32m<ipython-input-40-be911942fd1d>\u001b[0m in \u001b[0;36m<module>\u001b[0;34m()\u001b[0m\n\u001b[1;32m      3\u001b[0m \u001b[0mfmse_model\u001b[0m\u001b[0;34m.\u001b[0m\u001b[0mfit\u001b[0m\u001b[0;34m(\u001b[0m\u001b[0mx_train\u001b[0m\u001b[0;34m,\u001b[0m\u001b[0my_train\u001b[0m\u001b[0;34m)\u001b[0m\u001b[0;34m\u001b[0m\u001b[0;34m\u001b[0m\u001b[0m\n\u001b[1;32m      4\u001b[0m \u001b[0mmae_model\u001b[0m\u001b[0;34m.\u001b[0m\u001b[0mfit\u001b[0m\u001b[0;34m(\u001b[0m\u001b[0mx_train\u001b[0m\u001b[0;34m,\u001b[0m\u001b[0my_train\u001b[0m\u001b[0;34m)\u001b[0m\u001b[0;34m\u001b[0m\u001b[0;34m\u001b[0m\u001b[0m\n\u001b[0;32m----> 5\u001b[0;31m \u001b[0mp_model\u001b[0m\u001b[0;34m.\u001b[0m\u001b[0mfit\u001b[0m\u001b[0;34m(\u001b[0m\u001b[0mx_train\u001b[0m\u001b[0;34m,\u001b[0m\u001b[0my_train\u001b[0m\u001b[0;34m)\u001b[0m\u001b[0;34m\u001b[0m\u001b[0;34m\u001b[0m\u001b[0m\n\u001b[0m",
            "\u001b[0;32m/usr/local/lib/python3.6/dist-packages/sklearn/tree/_classes.py\u001b[0m in \u001b[0;36mfit\u001b[0;34m(self, X, y, sample_weight, check_input, X_idx_sorted)\u001b[0m\n\u001b[1;32m   1223\u001b[0m             \u001b[0msample_weight\u001b[0m\u001b[0;34m=\u001b[0m\u001b[0msample_weight\u001b[0m\u001b[0;34m,\u001b[0m\u001b[0;34m\u001b[0m\u001b[0;34m\u001b[0m\u001b[0m\n\u001b[1;32m   1224\u001b[0m             \u001b[0mcheck_input\u001b[0m\u001b[0;34m=\u001b[0m\u001b[0mcheck_input\u001b[0m\u001b[0;34m,\u001b[0m\u001b[0;34m\u001b[0m\u001b[0;34m\u001b[0m\u001b[0m\n\u001b[0;32m-> 1225\u001b[0;31m             X_idx_sorted=X_idx_sorted)\n\u001b[0m\u001b[1;32m   1226\u001b[0m         \u001b[0;32mreturn\u001b[0m \u001b[0mself\u001b[0m\u001b[0;34m\u001b[0m\u001b[0;34m\u001b[0m\u001b[0m\n\u001b[1;32m   1227\u001b[0m \u001b[0;34m\u001b[0m\u001b[0m\n",
            "\u001b[0;32m/usr/local/lib/python3.6/dist-packages/sklearn/tree/_classes.py\u001b[0m in \u001b[0;36mfit\u001b[0;34m(self, X, y, sample_weight, check_input, X_idx_sorted)\u001b[0m\n\u001b[1;32m    326\u001b[0m                                                          self.n_classes_)\n\u001b[1;32m    327\u001b[0m             \u001b[0;32melse\u001b[0m\u001b[0;34m:\u001b[0m\u001b[0;34m\u001b[0m\u001b[0;34m\u001b[0m\u001b[0m\n\u001b[0;32m--> 328\u001b[0;31m                 criterion = CRITERIA_REG[self.criterion](self.n_outputs_,\n\u001b[0m\u001b[1;32m    329\u001b[0m                                                          n_samples)\n\u001b[1;32m    330\u001b[0m \u001b[0;34m\u001b[0m\u001b[0m\n",
            "\u001b[0;31mKeyError\u001b[0m: 'poisson'"
          ]
        }
      ]
    },
    {
      "cell_type": "code",
      "metadata": {
        "id": "wNuaBIFKIJS1"
      },
      "source": [
        "#prediciting the output\r\n",
        "mse_pred=mse_model.predict(x_test)\r\n",
        "fmse_pred=fmse_model.predict(x_test)\r\n",
        "mae_pred=mae_model.predict(x_test)\r\n",
        "#p_pred=p_model.predict(x_test)"
      ],
      "execution_count": null,
      "outputs": []
    },
    {
      "cell_type": "code",
      "metadata": {
        "colab": {
          "base_uri": "https://localhost:8080/",
          "height": 295
        },
        "id": "liTcKjILJtMs",
        "outputId": "57bc1ab0-09df-4600-d5d3-417471e6fd59"
      },
      "source": [
        "#plotting the graph\r\n",
        "x_grid = np.arange(min(x), max(x), 0.01)\r\n",
        "x_grid = x_grid.reshape((len(x_grid), 1))\r\n",
        "plt.scatter(x, y, color = 'red')\r\n",
        "plt.plot(x_grid, mse_model.predict(x_grid), color = 'blue')\r\n",
        "plt.title('Truth or Bluff (Decision Tree Regression)')\r\n",
        "plt.xlabel('Position level')\r\n",
        "plt.ylabel('Salary')\r\n",
        "plt.show()"
      ],
      "execution_count": null,
      "outputs": [
        {
          "output_type": "display_data",
          "data": {
            "image/png": "[encoded data removed]",
            "text/plain": [
              "<Figure size 432x288 with 1 Axes>"
            ]
          },
          "metadata": {
            "tags": [],
            "needs_background": "light"
          }
        }
      ]
    },
    {
      "cell_type": "code",
      "metadata": {
        "colab": {
          "base_uri": "https://localhost:8080/",
          "height": 295
        },
        "id": "qqFf5-1Bd29s",
        "outputId": "130c92d1-dcff-44dd-de8e-b1b581245cc7"
      },
      "source": [
        "x_grid = np.arange(min(x), max(x), 0.01)\r\n",
        "x_grid = x_grid.reshape((len(x_grid), 1))\r\n",
        "plt.scatter(x, y, color = 'red')\r\n",
        "plt.plot(x_grid, fmse_model.predict(x_grid), color = 'blue')\r\n",
        "plt.title('Truth or Bluff (Decision Tree Regression)')\r\n",
        "plt.xlabel('Position level')\r\n",
        "plt.ylabel('Salary')\r\n",
        "plt.show()"
      ],
      "execution_count": null,
      "outputs": [
        {
          "output_type": "display_data",
          "data": {
            "image/png": "[encoded data removed]",
            "text/plain": [
              "<Figure size 432x288 with 1 Axes>"
            ]
          },
          "metadata": {
            "tags": [],
            "needs_background": "light"
          }
        }
      ]
    },
    {
      "cell_type": "code",
      "metadata": {
        "id": "oXWDPz5Neq0A",
        "colab": {
          "base_uri": "https://localhost:8080/",
          "height": 295
        },
        "outputId": "89fdac6b-c533-45d3-d499-45a7be295a82"
      },
      "source": [
        "x_grid = np.arange(min(x), max(x), 0.01)\r\n",
        "x_grid = x_grid.reshape((len(x_grid), 1))\r\n",
        "plt.scatter(x, y, color = 'red')\r\n",
        "plt.plot(x_grid, mae_model.predict(x_grid), color = 'blue')\r\n",
        "plt.title('Truth or Bluff (Decision Tree Regression)')\r\n",
        "plt.xlabel('Position level')\r\n",
        "plt.ylabel('Salary')\r\n",
        "plt.show()"
      ],
      "execution_count": null,
      "outputs": [
        {
          "output_type": "display_data",
          "data": {
            "image/png": "[encoded data removed]",
            "text/plain": [
              "<Figure size 432x288 with 1 Axes>"
            ]
          },
          "metadata": {
            "tags": [],
            "needs_background": "light"
          }
        }
      ]
    }
  ]
}