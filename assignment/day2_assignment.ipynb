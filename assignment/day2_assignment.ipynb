{
  "nbformat": 4,
  "nbformat_minor": 0,
  "metadata": {
    "colab": {
      "name": "day2-assignment.ipynb",
      "provenance": [],
      "collapsed_sections": []
    },
    "kernelspec": {
      "name": "python3",
      "display_name": "Python 3"
    }
  },
  "cells": [
    {
      "cell_type": "markdown",
      "metadata": {
        "id": "W0QjEF6xIOD_"
      },
      "source": [
        "# Assignment 2"
      ]
    },
    {
      "cell_type": "markdown",
      "metadata": {
        "id": "88PbU2VKIRrc"
      },
      "source": [
        "####**Q1.Write a python code to determine the maximum estimated salary with age 47?** "
      ]
    },
    {
      "cell_type": "code",
      "metadata": {
        "id": "Xl4kyaTEHPZ8"
      },
      "source": [
        "#importing librar\r\n",
        "import pandas as pd"
      ],
      "execution_count": 16,
      "outputs": []
    },
    {
      "cell_type": "code",
      "metadata": {
        "colab": {
          "base_uri": "https://localhost:8080/"
        },
        "id": "AMlfAs7tHeWq",
        "outputId": "2561d383-00a2-496e-fa64-57b997520162"
      },
      "source": [
        "data=pd.read_csv('/content/drive/MyDrive/ML/TinkerWeek.py/dataset/Social_Network_Ads.csv')\r\n",
        "print(data)"
      ],
      "execution_count": 3,
      "outputs": [
        {
          "output_type": "stream",
          "text": [
            "     Age  EstimatedSalary  Purchased\n",
            "0     19            19000          0\n",
            "1     35            20000          0\n",
            "2     26            43000          0\n",
            "3     27            57000          0\n",
            "4     19            76000          0\n",
            "..   ...              ...        ...\n",
            "395   46            41000          1\n",
            "396   51            23000          1\n",
            "397   50            20000          1\n",
            "398   36            33000          0\n",
            "399   49            36000          1\n",
            "\n",
            "[400 rows x 3 columns]\n"
          ],
          "name": "stdout"
        }
      ]
    },
    {
      "cell_type": "code",
      "metadata": {
        "colab": {
          "base_uri": "https://localhost:8080/"
        },
        "id": "ms1XujdPPS6N",
        "outputId": "7e89046d-58e9-445f-e626-64dabae72242"
      },
      "source": [
        "max_est_salary=max(data.loc[data.Age==47,'EstimatedSalary'])\r\n",
        "print(max_est_salary)"
      ],
      "execution_count": 27,
      "outputs": [
        {
          "output_type": "stream",
          "text": [
            "144000\n"
          ],
          "name": "stdout"
        }
      ]
    },
    {
      "cell_type": "markdown",
      "metadata": {
        "id": "Iq3S8jDhOt1Y"
      },
      "source": [
        "####**Q2.Plot a 3 degree scatterplot of age with respected to estimated salary from social_network_ad.csv?** "
      ]
    },
    {
      "cell_type": "code",
      "metadata": {
        "id": "mtnkYasqPH5s"
      },
      "source": [
        "#importing libraries\r\n",
        "import matplotlib.pyplot as plt\r\n",
        "import numpy as np"
      ],
      "execution_count": 17,
      "outputs": []
    },
    {
      "cell_type": "code",
      "metadata": {
        "id": "OkU2tXAcRPjQ"
      },
      "source": [
        "#defining the x and y values\r\n",
        "x=data.iloc[:,1]\r\n",
        "y=data.iloc[:,0]"
      ],
      "execution_count": 13,
      "outputs": []
    },
    {
      "cell_type": "code",
      "metadata": {
        "colab": {
          "base_uri": "https://localhost:8080/"
        },
        "id": "CU1M33mcRnRU",
        "outputId": "0a7bc80f-cd7e-42e5-bd0c-77d151c524c9"
      },
      "source": [
        "print(x)"
      ],
      "execution_count": 14,
      "outputs": [
        {
          "output_type": "stream",
          "text": [
            "0      19000\n",
            "1      20000\n",
            "2      43000\n",
            "3      57000\n",
            "4      76000\n",
            "       ...  \n",
            "395    41000\n",
            "396    23000\n",
            "397    20000\n",
            "398    33000\n",
            "399    36000\n",
            "Name: EstimatedSalary, Length: 400, dtype: int64\n"
          ],
          "name": "stdout"
        }
      ]
    },
    {
      "cell_type": "code",
      "metadata": {
        "colab": {
          "base_uri": "https://localhost:8080/"
        },
        "id": "lmeoLBdqRuaZ",
        "outputId": "04585be8-1320-4727-8ba5-3f115d63abdd"
      },
      "source": [
        "print(y)"
      ],
      "execution_count": 15,
      "outputs": [
        {
          "output_type": "stream",
          "text": [
            "0      19\n",
            "1      35\n",
            "2      26\n",
            "3      27\n",
            "4      19\n",
            "       ..\n",
            "395    46\n",
            "396    51\n",
            "397    50\n",
            "398    36\n",
            "399    49\n",
            "Name: Age, Length: 400, dtype: int64\n"
          ],
          "name": "stdout"
        }
      ]
    },
    {
      "cell_type": "code",
      "metadata": {
        "colab": {
          "base_uri": "https://localhost:8080/",
          "height": 279
        },
        "id": "COX08vTJSHmb",
        "outputId": "fda6b152-c334-4d54-c0f9-28e241d318ac"
      },
      "source": [
        "#scatterplot\r\n",
        "plt.scatter(x,y)\r\n",
        "plt.xlabel(\"Estimated Salary\")\r\n",
        "plt.ylabel(\"Age\")\r\n",
        "plt.show()"
      ],
      "execution_count": 29,
      "outputs": [
        {
          "output_type": "display_data",
          "data": {
            "image/png": "[encoded data removed]",
            "text/plain": [
              "<Figure size 432x288 with 1 Axes>"
            ]
          },
          "metadata": {
            "tags": [],
            "needs_background": "light"
          }
        }
      ]
    }
  ]
}